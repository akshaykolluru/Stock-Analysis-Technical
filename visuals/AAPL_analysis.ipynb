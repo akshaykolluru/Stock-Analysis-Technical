{
 "cells": [
  {
   "cell_type": "code",
   "execution_count": null,
   "id": "02a37bcd",
   "metadata": {},
   "outputs": [],
   "source": [
    "import pandas as pd\n",
    "import matplotlib.pyplot as plt\n",
    "\n",
    "# Read CSV and skip the extra ^GSPC row\n",
    "df = pd.read_csv(\"AAPL_OHLCV.csv\", skiprows=[1])\n",
    "\n",
    "# Convert 'Date' column to datetime and set as index\n",
    "df['Date'] = pd.to_datetime(df['Date'])\n",
    "df.set_index('Date', inplace=True)\n",
    "\n",
    "# Calculate 20-day moving average for Close price\n",
    "df['MA_20'] = df['Close'].rolling(window=20).mean()\n",
    "\n",
    "# Plot Close, High, Low, and Moving Average\n",
    "plt.figure(figsize=(14,7))\n",
    "plt.plot(df['Close'], label='Close', color='blue')\n",
    "plt.plot(df['High'], label='High', color='green', alpha=0.5)\n",
    "plt.plot(df['Low'], label='Low', color='red', alpha=0.5)\n",
    "plt.plot(df['MA_20'], label='20-day MA', color='orange', linestyle='--')\n",
    "plt.title('S&P 500 Prices with 20-day Moving Average')\n",
    "plt.xlabel('Date')\n",
    "plt.ylabel('Price')\n",
    "plt.legend()\n",
    "plt.grid(True)\n",
    "plt.show()"
   ]
  }
 ],
 "metadata": {
  "language_info": {
   "name": "python"
  }
 },
 "nbformat": 4,
 "nbformat_minor": 5
}
