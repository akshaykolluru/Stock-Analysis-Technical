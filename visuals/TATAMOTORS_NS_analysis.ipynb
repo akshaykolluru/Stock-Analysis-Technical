{
 "cells": [
  {
   "cell_type": "code",
   "execution_count": null,
   "id": "4f4d550a",
   "metadata": {},
   "outputs": [],
   "source": [
    "import pandas as pd\n",
    "import matplotlib.pyplot as plt\n",
    "\n",
    "# Read CSV and skip extra ^GSPC row\n",
    "df = pd.read_csv(\"TATAMOTORS_NS_OHLCV.csv\", skiprows=[1])\n",
    "df['Date'] = pd.to_datetime(df['Date'])\n",
    "df.set_index('Date', inplace=True)\n",
    "\n",
    "# Daily percent change\n",
    "df['Daily_Return'] = df['Close'].pct_change() * 100\n",
    "\n",
    "# Compute mean and std\n",
    "mean = df['Daily_Return'].mean()\n",
    "std = df['Daily_Return'].std()\n",
    "\n",
    "# Flag anomalies\n",
    "df['Anomaly'] = (df['Daily_Return'] > mean + 2*std) | (df['Daily_Return'] < mean - 2*std)\n",
    "\n",
    "# Replace anomalies with rolling 5-day mean\n",
    "df['Close_fixed'] = df['Close']\n",
    "df.loc[df['Anomaly'], 'Close_fixed'] = df['Close'].rolling(window=5, center=True).mean()\n",
    "\n",
    "# Plot only the fixed Close price\n",
    "plt.figure(figsize=(14,7))\n",
    "plt.plot(df['Close_fixed'], label='Close (Anomalies Fixed)', color='orange')\n",
    "plt.title('S&P 500 Close Price - Anomalies Fixed')\n",
    "plt.xlabel('Date')\n",
    "plt.ylabel('Price')\n",
    "plt.legend()\n",
    "plt.grid(True)\n",
    "plt.show()"
   ]
  }
 ],
 "metadata": {
  "language_info": {
   "name": "python"
  }
 },
 "nbformat": 4,
 "nbformat_minor": 5
}
